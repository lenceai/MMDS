{
 "cells": [
  {
   "cell_type": "code",
   "execution_count": null,
   "metadata": {},
   "outputs": [],
   "source": [
    "import sys\n",
    "from ldap3 import Server, Connection, ALL, NTLM, ALL_ATTRIBUTES, ALL_OPERATIONAL_ATTRIBUTES, AUTO_BIND_NO_TLS, SUBTREE\n",
    "from ldap3.core.exceptions import LDAPCursorError\n",
    " \n",
    "server_name = 'your_server'\n",
    "domain_name = 'your_domain'\n",
    "user_name = 'your_username'\n",
    "password = 'your_password'\n",
    " \n",
    "format_string = '{:25} {:>6} {:19} {:19} {}'\n",
    "print(format_string.format('User', 'Logins', 'Last Login', 'Expires', 'Description'))\n",
    " \n",
    "server = Server(server_name, get_info=ALL)\n",
    "conn = Connection(server, user='{}\\\\{}'.format(domain_name, user_name), password=password, authentication=NTLM, auto_bind=True)\n",
    "conn.search('dc={},dc=local'.format(domain_name), '(objectclass=person)', attributes=[ALL_ATTRIBUTES, ALL_OPERATIONAL_ATTRIBUTES])\n",
    "for e in conn.entries:\n",
    "    try:\n",
    "        desc = e.description\n",
    "    except LDAPCursorError:\n",
    "        desc = \"\"\n",
    " \n",
    "print(format_string.format(str(e.name), str(e.logonCount), str(e.lastLogon)[:19], str(e.accountExpires)[:19], desc))"
   ]
  }
 ],
 "metadata": {
  "kernelspec": {
   "display_name": "Python 3",
   "language": "python",
   "name": "python3"
  }
 },
 "nbformat": 4,
 "nbformat_minor": 2
}
